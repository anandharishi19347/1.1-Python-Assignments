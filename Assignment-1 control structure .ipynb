{
 "cells": [
  {
   "cell_type": "markdown",
   "id": "bdbd3cef-b5a4-475d-8e61-44726d3f1f7b",
   "metadata": {},
   "source": [
    "Welcome to Assignment-1"
   ]
  },
  {
   "cell_type": "code",
   "execution_count": 1,
   "id": "ffee617c-c465-42cb-a111-0fd847d06fd7",
   "metadata": {},
   "outputs": [
    {
     "name": "stdout",
     "output_type": "stream",
     "text": [
      "Welcome to Assignment-1\n"
     ]
    }
   ],
   "source": [
    "print(\"Welcome to Assignment-1\")"
   ]
  },
  {
   "cell_type": "markdown",
   "id": "38d8de5e-3a48-412d-9bda-d6e31b3f264e",
   "metadata": {},
   "source": [
    "num1=10\n",
    "num2=30\n",
    "add=40"
   ]
  },
  {
   "cell_type": "code",
   "execution_count": 2,
   "id": "fb5b7c1e-459d-4f6f-83f8-5eccb491348a",
   "metadata": {},
   "outputs": [],
   "source": [
    "num1=10"
   ]
  },
  {
   "cell_type": "code",
   "execution_count": 3,
   "id": "725568de-094d-4066-986e-f543688fcb75",
   "metadata": {},
   "outputs": [],
   "source": [
    "num2=30"
   ]
  },
  {
   "cell_type": "code",
   "execution_count": 4,
   "id": "d85fcf86-7f7f-492c-8338-af2d7267b728",
   "metadata": {},
   "outputs": [],
   "source": [
    "add=num1+num2"
   ]
  },
  {
   "cell_type": "code",
   "execution_count": 5,
   "id": "f96917cc-c21c-4bd5-8581-62de5ff6f7c7",
   "metadata": {},
   "outputs": [
    {
     "name": "stdout",
     "output_type": "stream",
     "text": [
      "40\n"
     ]
    }
   ],
   "source": [
    "print(add)"
   ]
  },
  {
   "cell_type": "markdown",
   "id": "5db3e2c9-4ba9-45d2-bf3a-4b24f24ceb93",
   "metadata": {},
   "source": [
    "Enter the BMI Index:34\n",
    "Very Overweight"
   ]
  },
  {
   "cell_type": "code",
   "execution_count": 6,
   "id": "f2623394-3b1f-478d-a9b2-eefcb1a0c5b8",
   "metadata": {},
   "outputs": [
    {
     "name": "stdin",
     "output_type": "stream",
     "text": [
      "enter the BMI Index: 34\n"
     ]
    }
   ],
   "source": [
    "weight=int(input(\"enter the BMI Index:\"))"
   ]
  },
  {
   "cell_type": "code",
   "execution_count": 7,
   "id": "f61cc347-e5bd-41de-a0e9-55a45fe9e1d9",
   "metadata": {},
   "outputs": [
    {
     "name": "stdout",
     "output_type": "stream",
     "text": [
      "very overweight\n"
     ]
    }
   ],
   "source": [
    "if (weight<19):\n",
    "    print(\"under weight\")\n",
    "elif (weight<25):\n",
    "    print(\"normal\")\n",
    "elif (weight<40):\n",
    "     print(\"very overweight\")\n",
    "else:\n",
    "     print(\"obese\")\n",
    "     "
   ]
  },
  {
   "cell_type": "markdown",
   "id": "c4acf1a7-9735-4d05-957c-62b71920ae04",
   "metadata": {},
   "source": []
  },
  {
   "cell_type": "code",
   "execution_count": null,
   "id": "5f022b16-0231-41b9-8d9d-93afaa31afae",
   "metadata": {},
   "outputs": [],
   "source": []
  }
 ],
 "metadata": {
  "kernelspec": {
   "display_name": "Python 3 (ipykernel)",
   "language": "python",
   "name": "python3"
  },
  "language_info": {
   "codemirror_mode": {
    "name": "ipython",
    "version": 3
   },
   "file_extension": ".py",
   "mimetype": "text/x-python",
   "name": "python",
   "nbconvert_exporter": "python",
   "pygments_lexer": "ipython3",
   "version": "3.11.7"
  }
 },
 "nbformat": 4,
 "nbformat_minor": 5
}
